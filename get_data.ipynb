{
 "cells": [
  {
   "cell_type": "markdown",
   "metadata": {},
   "source": [
    "# 2020 Presidential Election Time Series\n",
    "## Project Setup"
   ]
  },
  {
   "cell_type": "code",
   "execution_count": 1,
   "metadata": {},
   "outputs": [],
   "source": [
    "%run get_data.py"
   ]
  },
  {
   "cell_type": "code",
   "execution_count": null,
   "metadata": {},
   "outputs": [],
   "source": [
    "update_notebook()"
   ]
  },
  {
   "cell_type": "code",
   "execution_count": null,
   "metadata": {},
   "outputs": [],
   "source": [
    "# https://www.codegrepper.com/code-examples/python/run+a+function+every+hour+python\n",
    "# from time import time, sleep\n",
    "# from IPython.display import clear_output\n",
    "# print('begin')\n",
    "# while True:\n",
    "#     clear_output()\n",
    "#     sleep(1 - time() % 1)\n",
    "    \n",
    "#     print('clear')\n",
    "# \t# thing to run"
   ]
  },
  {
   "cell_type": "code",
   "execution_count": null,
   "metadata": {},
   "outputs": [],
   "source": [
    "# def countdown(t):\n",
    "    \n",
    "#     print('Updating data')\n",
    "#     %run get_data.py\n",
    "    \n",
    "#     while t: \n",
    "#         mins, secs = divmod(t, 60) \n",
    "#         timer = '{:02d}:{:02d}'.format(mins, secs) \n",
    "#         print(timer, end=\"\\r\")\n",
    "#         time.sleep(1) \n",
    "#         t -= 1\n",
    "    \n",
    "#     countdown(int(t))\n",
    "    \n",
    "# # input time in seconds \n",
    "# t = 3600 # input(\"Enter the time in seconds: \") \n",
    "  \n",
    "# # function call \n",
    "# countdown(int(t)) "
   ]
  },
  {
   "cell_type": "code",
   "execution_count": null,
   "metadata": {},
   "outputs": [],
   "source": []
  }
 ],
 "metadata": {
  "kernelspec": {
   "display_name": "Python 3",
   "language": "python",
   "name": "python3"
  },
  "language_info": {
   "codemirror_mode": {
    "name": "ipython",
    "version": 3
   },
   "file_extension": ".py",
   "mimetype": "text/x-python",
   "name": "python",
   "nbconvert_exporter": "python",
   "pygments_lexer": "ipython3",
   "version": "3.8.6"
  }
 },
 "nbformat": 4,
 "nbformat_minor": 4
}
